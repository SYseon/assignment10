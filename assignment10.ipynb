{
 "cells": [
  {
   "cell_type": "markdown",
   "metadata": {},
   "source": [
    "- 20144753 Seung Yeop, Seon\n",
    "- https://github.com/SYseon/Assignment10\n",
    "- Use least square, we can get a boundary which helps to decide where the sample belongs\n",
    "- Put the values from the product of feature and parameter into the sign function.\n",
    "\n",
    "\\begin{equation} Using\\ random\\ variables, make\\ feature\\ fucntions\\ f(x)\\ then, \\end{equation}\n",
    "\\begin{equation}A=\\begin{Bmatrix} \n",
    "     f(x_{1})_{1} & f(x_{1})_{2} & \\dots & f(x_{1})_{p}\\\\\n",
    "    f(x_{2})_{1} & f(x_{2})_{2} & \\dots & f(x_{2})_{p}\\\\\n",
    "    \\vdots & \\vdots & \\vdots & \\vdots \\\\\n",
    "    f(x_{m})_{1} & f(x_{m})_{2} & \\dots & f(x_{m})_{p}\\\\\n",
    "   \\end{Bmatrix}\n",
    "   \\end{equation}\n",
    "\n",
    "\\begin{equation}b=\\begin{Bmatrix} \n",
    "      y_1\\\\\n",
    "    y_2\\\\\n",
    "    \\vdots\\\\\n",
    "    y_p\\\\\n",
    "   \\end{Bmatrix}\n",
    "   \\end{equation}\n",
    "\n",
    "\\begin{equation}\\theta=(A^TA)^{-1}A^Tb\\end{equation}\n",
    "\n",
    "\\begin{equation} if,\\;x<0\\; then,\\;sign(x)= -1.\\quad otherwise,\\; sign(x)= 1 \\end{equation}\n",
    "\n",
    "\\begin{equation} Repeat\\ above\\ procedure, until\\ numbers\\ 0\\ to\\ 9\\ will\\ be\\ classified.\\end{equation}"
   ]
  },
  {
   "cell_type": "code",
   "execution_count": 11,
   "metadata": {},
   "outputs": [
    {
     "data": {
      "image/png": "[encoded data removed]",
      "text/plain": [
       "<Figure size 432x288 with 1 Axes>"
      ]
     },
     "metadata": {
      "needs_background": "light"
     },
     "output_type": "display_data"
    }
   ],
   "source": [
    "import pandas as pd\n",
    "import numpy as np\n",
    "import matplotlib.pyplot as plt\n",
    "import numpy.linalg as lin\n",
    "from sklearn.metrics import f1_score\n",
    "from sklearn.metrics import confusion_matrix\n",
    " \n",
    "class classifier():\n",
    "    def __init__(self, p = 1, n_class = 2):\n",
    "        self.p = p\n",
    "        self.n_class = n_class\n",
    "        \n",
    "    def fit(self, X, y):\n",
    "        self.w_list = []\n",
    "        X = np.where(np.isnan(X), 0, X)\n",
    "        self.X = self.min_max(X)\n",
    "        self.y = y\n",
    "        self.r = np.random.normal(0, 1, (self.p,self.X.shape[1]))\n",
    "        self.tr_A = self.feature_change(self.X)\n",
    "        for i in range(self.n_class - 1):\n",
    "            self.temp_y = np.where(self.y == i, 1, -1)\n",
    "            self.w = np.dot(np.dot(lin.inv(np.dot(self.tr_A.T, self.tr_A)), self.tr_A.T), self.temp_y)\n",
    "            self.w_list.append(self.w)\n",
    "            positive_index = np.where(self.sign(np.dot(self.tr_A,self.w)) == 1)[0]\n",
    "            self.tr_A = np.delete(self.tr_A, positive_index, axis = 0)\n",
    "            self.y = np.delete(self.y, positive_index)\n",
    "            \n",
    "    def feature_change(self, X):\n",
    "        A = np.zeros((X.shape[0], self.p))\n",
    "        for j in range(X.shape[0]):\n",
    "            for i in range(self.p):\n",
    "                A[j][i] = np.dot(X[j], self.r[i].T)\n",
    "        return A\n",
    "    \n",
    "    def min_max(self, data):\n",
    "        result = (data-data.min()) / (data.max() - data.min())\n",
    "        return result\n",
    " \n",
    "    def sign(self, data, label = 1):\n",
    "        return np.where(data>=0, 1, -1)\n",
    " \n",
    "    def predict(self, ts_x):\n",
    "        self.ts_A = self.feature_change(self.min_max(ts_x))\n",
    "        y = np.ones(ts_x.shape[0])\n",
    "        finished_index = np.empty(0)\n",
    "        for i in range(self.n_class - 1):\n",
    "            self.sign(np.dot(self.ts_A, self.w_list[i]))\n",
    "            temp_index = np.where(self.sign(np.dot(self.ts_A, self.w_list[i])) == 1)[0]\n",
    "            for j in temp_index:\n",
    "                if not j in finished_index:\n",
    "                    y[j] = i\n",
    "            if i == self.n_class-2:\n",
    "                negative_index = np.where(self.sign(np.dot(self.ts_A, self.w_list[i])) == -1)[0]\n",
    "                for j in negative_index:\n",
    "                    if not j in finished_index:\n",
    "                        y[j] = self.n_class - 1\n",
    "            finished_index = np.concatenate((finished_index, temp_index))\n",
    "            \n",
    "        return y.astype(int)\n",
    " \n",
    "    \n",
    "tr = pd.read_csv(\"mnist_train.csv\")\n",
    "ts = pd.read_csv(\"mnist_test.csv\")\n",
    "tr_data = np.array(tr)\n",
    "ts_data = np.array(ts) \n",
    "tr_y, tr_x = np.split(tr_data, [1], axis=1)\n",
    "ts_y, ts_x = np.split(ts_data, [1], axis=1)\n",
    "x=np.arange(1,10)\n",
    "max_f1_score = 0\n",
    "max_p = 0\n",
    "result_y_pred = np.zeros(ts_y.shape)\n",
    "for i in x:\n",
    "    clf = classifier(2**i, 10)\n",
    "    clf.fit(tr_x, tr_y)\n",
    "    y_pred = clf.predict(ts_x)\n",
    "    y=f1_score(ts_y, y_pred, average='macro', labels=np.unique(y_pred))\n",
    "    if y>max_f1_score:\n",
    "        max_f1_score = y\n",
    "        max_p = i\n",
    "        result_y_pred = y_pred\n",
    "    plt.scatter(i, y, label=i)\n",
    "    \n",
    "plt.ylabel(\"F1 score\")\n",
    "plt.xlabel(\"log_2{p}\")\n",
    "plt.legend(bbox_to_anchor=(1,1))\n",
    "plt.show()"
   ]
  },
  {
   "cell_type": "markdown",
   "metadata": {},
   "source": [
    "- This is F1 score, about 2^p"
   ]
  },
  {
   "cell_type": "code",
   "execution_count": 12,
   "metadata": {},
   "outputs": [
    {
     "name": "stdout",
     "output_type": "stream",
     "text": [
      "Maximum F1 score : 0.6907817047276686 When p =  64\n"
     ]
    }
   ],
   "source": [
    "print(\"Maximum F1 score :\",max_f1_score, \"When p = \", 2**max_p)"
   ]
  },
  {
   "cell_type": "code",
   "execution_count": 13,
   "metadata": {},
   "outputs": [
    {
     "name": "stdout",
     "output_type": "stream",
     "text": [
      "[[800   0  10   5   6  29  17  13   7  93]\n",
      " [  0 999   1   3   1   1   2   2  36  90]\n",
      " [ 13  74 644  52  26   8  35  27  59  94]\n",
      " [  7  20  31 607   5  45   3  28  42 222]\n",
      " [  0   5  31  10 582   8  25  16  24 281]\n",
      " [ 35  11   8  71  19 522   9  31  87  99]\n",
      " [ 25   8 105   0  26  24 663   8  30  69]\n",
      " [  4  35  23  13  20   9   5 778  27 113]\n",
      " [  4  12   3  10  11  80  15  36 539 264]\n",
      " [  1   5  17   6  51  13  10 133  93 680]]\n"
     ]
    }
   ],
   "source": [
    "print(confusion_matrix(ts_y, result_y_pred))"
   ]
  },
  {
   "cell_type": "markdown",
   "metadata": {},
   "source": [
    "- This is a confusion matrix."
   ]
  },
  {
   "cell_type": "code",
   "execution_count": null,
   "metadata": {},
   "outputs": [],
   "source": []
  }
 ],
 "metadata": {
  "kernelspec": {
   "display_name": "Python 3",
   "language": "python",
   "name": "python3"
  },
  "language_info": {
   "codemirror_mode": {
    "name": "ipython",
    "version": 3
   },
   "file_extension": ".py",
   "mimetype": "text/x-python",
   "name": "python",
   "nbconvert_exporter": "python",
   "pygments_lexer": "ipython3",
   "version": "3.7.0"
  }
 },
 "nbformat": 4,
 "nbformat_minor": 2
}
